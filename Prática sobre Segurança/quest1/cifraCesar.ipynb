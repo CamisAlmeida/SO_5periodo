{
 "cells": [
  {
   "cell_type": "markdown",
   "metadata": {},
   "source": [
    "# Prática de Segurança de Sistemas Operacionais\n",
    "\n",
    "## Questão 1:\n",
    "Uma técnica de criptografia para criptografar senhas digitadas pelo usuário (com tamanho máximo de 8 caracteres) e uma técnica para tentar \"quebrar\" as senhas dos usuários (indicando o tempo gasto para conclusão da \"quebra\").\n",
    "\n",
    "Vou fazer a cifra de cesar com chave alternada, que é uma versão um pouco mais segura onde tem a senha é a chave de critografia com dois digitos (pode ser, uma quantidade x de dígitos, mas vou fazer com apenas 2). Se a posição da chave for par vai ser a chave d1 se for impar a chave d2.\n",
    "\n",
    "A forma de quebrar é força bruta tentando as varias combinações. "
   ]
  },
  {
   "cell_type": "code",
   "execution_count": 4,
   "metadata": {},
   "outputs": [],
   "source": [
    "import time\n",
    "\n",
    "#Função de criptografar com  cifra de cesar \n",
    "\n",
    "# Função de criptografar com cifra de César (chaves alternadas: d1, d2, d1, d2, ...)\n",
    "def cifraCesarCriptografar(senha, d1, d2):\n",
    "    resultado = \"\"\n",
    "    for i, char in enumerate(senha):\n",
    "        # Verificar se é letra\n",
    "        if char.isalpha():\n",
    "            chave = d1 if i % 2 == 0 else d2\n",
    "            if char.isupper():\n",
    "                base = ord('A')\n",
    "                resultado += chr((ord(char) - base + chave) % 26 + base)\n",
    "            else:\n",
    "                base = ord('a')\n",
    "                resultado += chr((ord(char) - base + chave) % 26 + base)\n",
    "        else:\n",
    "            resultado += char\n",
    "    return resultado\n",
    "\n",
    "\n",
    "\n",
    "# Descriptografar a senha (aplicando o inverso da cifra)\n",
    "def cifraCesarDescriptografia(senha, d1, d2):\n",
    "    resultado = \"\"\n",
    "    for i, char in enumerate(senha):\n",
    "        # Verificar se é letra\n",
    "        if char.isalpha():\n",
    "            chave = d1 if i % 2 == 0 else d2\n",
    "            if char.isupper():\n",
    "                base = ord('A')\n",
    "                resultado += chr((ord(char) - base - chave) % 26 + base)\n",
    "            else:\n",
    "                base = ord('a')\n",
    "                resultado += chr((ord(char) - base - chave) % 26 + base)\n",
    "        else:\n",
    "            resultado += char\n",
    "    return resultado"
   ]
  },
  {
   "cell_type": "code",
   "execution_count": null,
   "metadata": {},
   "outputs": [
    {
     "name": "stdout",
     "output_type": "stream",
     "text": [
      "\n",
      "Senha : podeser\n",
      "\n",
      "d1:  6\n",
      "\n",
      "d2:  2\n",
      "\n",
      "Senha criptografada: vqjgygx\n"
     ]
    }
   ],
   "source": [
    "senha = input(\"Digite uma senha (máximo de 8 caracteres): \")[:8]\n",
    "\n",
    "try:\n",
    "    d1 = int(input(\"Digite o valor de d1: \"))\n",
    "    d2 = int(input(\"Digite o valor de d2: \"))\n",
    "except ValueError:\n",
    "    print(\"Valores inválidos para a chave. Use Numeros Inteiros.\")\n",
    "    exit(1)\n",
    "    \n",
    "    \n",
    "d1 = d1 % 26\n",
    "d2 = d2 % 26\n",
    "\n",
    "#Criptografar a senha:\n",
    "senhaCriptografada = cifraCesarCriptografar(senha, d1, d2)\n",
    "print(\"Senha: \", senha)\n",
    "print(\"d1:\", d1)\n",
    "print(\"d2:\", d2)\n",
    "print(\"Senha criptografada:\", senhaCriptografada)"
   ]
  },
  {
   "cell_type": "code",
   "execution_count": 11,
   "metadata": {},
   "outputs": [
    {
     "name": "stdout",
     "output_type": "stream",
     "text": [
      "\n",
      "Senha decifrada: podeser\n",
      "Chave encontrada: d1 = 6 , d2 = 2\n",
      "Tempo gasto para quebra: 0.001500 segundos\n"
     ]
    }
   ],
   "source": [
    "#Tentativa de quebrar a senha com força bruta:\n",
    "inicio = time.time()\n",
    "chaveEncontrada = None\n",
    "\n",
    "for i in range(26):\n",
    "    for j in range(26):\n",
    "        tentativa = cifraCesarDescriptografia(senhaCriptografada, i, j)\n",
    "        if tentativa == senha:\n",
    "            fim = time.time()\n",
    "            chaveEncontrada = (i,j)\n",
    "            print(\"\\nSenha decifrada:\", tentativa)\n",
    "            print(\"Chave encontrada: d1 =\", i, \", d2 =\", j)\n",
    "            print(\"Tempo gasto para quebra: {:.6f} segundos\".format(fim - inicio))\n",
    "            break\n",
    "        if chaveEncontrada:\n",
    "            break\n",
    "        \n",
    "        \n",
    "if not chaveEncontrada:\n",
    "    print(\"Não foi possível quebrar a senha.\")\n"
   ]
  }
 ],
 "metadata": {
  "kernelspec": {
   "display_name": "Python 3",
   "language": "python",
   "name": "python3"
  },
  "language_info": {
   "codemirror_mode": {
    "name": "ipython",
    "version": 3
   },
   "file_extension": ".py",
   "mimetype": "text/x-python",
   "name": "python",
   "nbconvert_exporter": "python",
   "pygments_lexer": "ipython3",
   "version": "3.13.1"
  }
 },
 "nbformat": 4,
 "nbformat_minor": 2
}
